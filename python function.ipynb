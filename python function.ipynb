{
 "cells": [
  {
   "cell_type": "code",
   "execution_count": 2,
   "id": "6669aebc-0c58-4056-b164-fa9d069217ae",
   "metadata": {},
   "outputs": [],
   "source": [
    "def test():\n",
    "    pass\n",
    "    "
   ]
  },
  {
   "cell_type": "code",
   "execution_count": 3,
   "id": "777f541b-f909-434c-985c-ffb66d95b94e",
   "metadata": {},
   "outputs": [],
   "source": [
    "def test():\n",
    "    print(\"this is my function\")# output is nontype by print so it is not concatenate in string"
   ]
  },
  {
   "cell_type": "code",
   "execution_count": 4,
   "id": "3af622f9-a3c1-4811-a0b2-03a5f7ab3534",
   "metadata": {},
   "outputs": [
    {
     "name": "stdout",
     "output_type": "stream",
     "text": [
      "this is my function\n"
     ]
    }
   ],
   "source": [
    "test()"
   ]
  },
  {
   "cell_type": "code",
   "execution_count": 6,
   "id": "a6fbbb95-e1b7-4030-b7c9-445811795b7c",
   "metadata": {},
   "outputs": [],
   "source": [
    "def test2():\n",
    "    return \"this is my my return\"# using return statement is output come  you will declare in \n",
    "                                 #return string, int,etc means return datatype"
   ]
  },
  {
   "cell_type": "code",
   "execution_count": 7,
   "id": "a573631a-4109-4662-9a23-2fdf61f2de91",
   "metadata": {},
   "outputs": [
    {
     "data": {
      "text/plain": [
       "'this is my my return'"
      ]
     },
     "execution_count": 7,
     "metadata": {},
     "output_type": "execute_result"
    }
   ],
   "source": [
    "test2()\n"
   ]
  },
  {
   "cell_type": "code",
   "execution_count": 9,
   "id": "45705d6b-d0ce-43f9-ab62-632389df5c88",
   "metadata": {},
   "outputs": [
    {
     "data": {
      "text/plain": [
       "('shashi', 24, 3.1, [1, 2, 3, 4])"
      ]
     },
     "execution_count": 9,
     "metadata": {},
     "output_type": "execute_result"
    }
   ],
   "source": [
    "def test3():\n",
    "    return \"shashi\",24,3.1,[1,2,3,4]\n",
    "test3()                                    #multiple data type"
   ]
  },
  {
   "cell_type": "code",
   "execution_count": 10,
   "id": "90efe928-ba2d-4af7-ab67-d58fd3d926ca",
   "metadata": {},
   "outputs": [],
   "source": [
    "a,b,c,d=test3()"
   ]
  },
  {
   "cell_type": "code",
   "execution_count": 11,
   "id": "51b29326-166d-4c06-bef8-0bc38842eda2",
   "metadata": {},
   "outputs": [
    {
     "data": {
      "text/plain": [
       "'shashi'"
      ]
     },
     "execution_count": 11,
     "metadata": {},
     "output_type": "execute_result"
    }
   ],
   "source": [
    "a"
   ]
  },
  {
   "cell_type": "code",
   "execution_count": 12,
   "id": "13a2f278-aa45-498e-9ebc-0b8b07584129",
   "metadata": {},
   "outputs": [
    {
     "data": {
      "text/plain": [
       "24"
      ]
     },
     "execution_count": 12,
     "metadata": {},
     "output_type": "execute_result"
    }
   ],
   "source": [
    "b"
   ]
  },
  {
   "cell_type": "code",
   "execution_count": 13,
   "id": "2a4785a6-4d15-4fd7-adab-5770dbc617d1",
   "metadata": {},
   "outputs": [
    {
     "data": {
      "text/plain": [
       "3.1"
      ]
     },
     "execution_count": 13,
     "metadata": {},
     "output_type": "execute_result"
    }
   ],
   "source": [
    "c"
   ]
  },
  {
   "cell_type": "code",
   "execution_count": 14,
   "id": "c40a95b9-be4e-4576-8432-7a023e5cf306",
   "metadata": {},
   "outputs": [
    {
     "data": {
      "text/plain": [
       "[1, 2, 3, 4]"
      ]
     },
     "execution_count": 14,
     "metadata": {},
     "output_type": "execute_result"
    }
   ],
   "source": [
    "d"
   ]
  },
  {
   "cell_type": "code",
   "execution_count": 16,
   "id": "4aced36b-af2d-45c4-8018-bb5af0ad0c20",
   "metadata": {},
   "outputs": [],
   "source": [
    "def test4():\n",
    "    a=5+6/7\n",
    "    return a"
   ]
  },
  {
   "cell_type": "code",
   "execution_count": 17,
   "id": "750a8a46-879f-434b-a7cc-fea4691c27bf",
   "metadata": {},
   "outputs": [
    {
     "data": {
      "text/plain": [
       "5.857142857142857"
      ]
     },
     "execution_count": 17,
     "metadata": {},
     "output_type": "execute_result"
    }
   ],
   "source": [
    "test4()"
   ]
  },
  {
   "cell_type": "code",
   "execution_count": 2,
   "id": "ce34206a-3075-4b00-9ce3-0fbc62cbdbdc",
   "metadata": {},
   "outputs": [
    {
     "data": {
      "text/plain": [
       "1.6666666666666665"
      ]
     },
     "execution_count": 2,
     "metadata": {},
     "output_type": "execute_result"
    }
   ],
   "source": [
    "def test5(a,b,c):\n",
    "    d=a+b/c\n",
    "    return d\n",
    "test5(1,2,3)"
   ]
  },
  {
   "cell_type": "code",
   "execution_count": 26,
   "id": "b6624ffa-10c6-4eb2-8cd3-6b8a9f87f03f",
   "metadata": {},
   "outputs": [
    {
     "data": {
      "text/plain": [
       "('shashi ,kant singh', [1, 2, 3, 4], 3.7)"
      ]
     },
     "execution_count": 26,
     "metadata": {},
     "output_type": "execute_result"
    }
   ],
   "source": [
    "def test6(*args):\n",
    "    return args\n",
    "test6(\"shashi ,kant singh\" ,[1,2,3,4],(3.7))"
   ]
  },
  {
   "cell_type": "code",
   "execution_count": 27,
   "id": "b0ad9efc-b4a0-4962-ba9a-f8874703e71c",
   "metadata": {},
   "outputs": [
    {
     "data": {
      "text/plain": [
       "6.133333333333333"
      ]
     },
     "execution_count": 27,
     "metadata": {},
     "output_type": "execute_result"
    }
   ],
   "source": [
    "test5(5,6.8,6)"
   ]
  },
  {
   "cell_type": "code",
   "execution_count": 34,
   "id": "6d9d8aad-ed0f-4bc5-b4cb-d8337d755859",
   "metadata": {},
   "outputs": [
    {
     "data": {
      "text/plain": [
       "'shashi kant singh'"
      ]
     },
     "execution_count": 34,
     "metadata": {},
     "output_type": "execute_result"
    }
   ],
   "source": [
    "def test7(a,b):\n",
    "    return a+b\n",
    "test7(\"shashi kant\" , \" singh\")"
   ]
  },
  {
   "cell_type": "code",
   "execution_count": 38,
   "id": "eee2db1f-562f-40d1-82c2-166bbdf697ec",
   "metadata": {},
   "outputs": [
    {
     "data": {
      "text/plain": [
       "(12, 3, 45, 4, 7, 8)"
      ]
     },
     "execution_count": 38,
     "metadata": {},
     "output_type": "execute_result"
    }
   ],
   "source": [
    "test7((12,3,45),(4,7,8))"
   ]
  },
  {
   "cell_type": "code",
   "execution_count": 41,
   "id": "346f147f-6b95-4e56-a143-0513502a1cc9",
   "metadata": {},
   "outputs": [
    {
     "data": {
      "text/plain": [
       "[1, 2, 3, 23]"
      ]
     },
     "execution_count": 41,
     "metadata": {},
     "output_type": "execute_result"
    }
   ],
   "source": [
    "test7([1,2,3,],[23])"
   ]
  },
  {
   "cell_type": "code",
   "execution_count": 44,
   "id": "960f0667-db00-4a81-8f34-7e3d1412b1d6",
   "metadata": {},
   "outputs": [
    {
     "data": {
      "text/plain": [
       "'singh sk'"
      ]
     },
     "execution_count": 44,
     "metadata": {},
     "output_type": "execute_result"
    }
   ],
   "source": [
    "test7(\"singh\",\" sk\")"
   ]
  },
  {
   "cell_type": "code",
   "execution_count": 10,
   "id": "a7a2ae73-f388-4fc5-885e-e2e724e9e4c1",
   "metadata": {},
   "outputs": [],
   "source": [
    "l=[1,2,3,4,'shashi','kant',[1,2,3,4],5.7]\n",
    "li=[]\n",
    "for i in l:\n",
    "    if type(i) == int or type(i) == float:\n",
    "        \n",
    "        li.append(i)"
   ]
  },
  {
   "cell_type": "code",
   "execution_count": 12,
   "id": "8d4cbbdc-261a-4e7e-9531-deaabca39665",
   "metadata": {},
   "outputs": [
    {
     "data": {
      "text/plain": [
       "[1, 2, 3, 4, 5.7]"
      ]
     },
     "execution_count": 12,
     "metadata": {},
     "output_type": "execute_result"
    }
   ],
   "source": [
    "li"
   ]
  },
  {
   "cell_type": "code",
   "execution_count": 1,
   "id": "531d2702-0477-4e6b-9144-f6c65f93e27f",
   "metadata": {},
   "outputs": [
    {
     "ename": "NameError",
     "evalue": "name 'li' is not defined",
     "output_type": "error",
     "traceback": [
      "\u001b[0;31m---------------------------------------------------------------------------\u001b[0m",
      "\u001b[0;31mNameError\u001b[0m                                 Traceback (most recent call last)",
      "Cell \u001b[0;32mIn[1], line 1\u001b[0m\n\u001b[0;32m----> 1\u001b[0m \u001b[43mli\u001b[49m\n",
      "\u001b[0;31mNameError\u001b[0m: name 'li' is not defined"
     ]
    }
   ],
   "source": [
    "li"
   ]
  },
  {
   "cell_type": "code",
   "execution_count": 13,
   "id": "89568be9-d07a-40b5-9fe9-de98ea7ff5d0",
   "metadata": {},
   "outputs": [
    {
     "data": {
      "text/plain": [
       "[1, 2, 3, 4, 5.7]"
      ]
     },
     "execution_count": 13,
     "metadata": {},
     "output_type": "execute_result"
    }
   ],
   "source": [
    "li"
   ]
  },
  {
   "cell_type": "code",
   "execution_count": 7,
   "id": "0ee8e42b-a963-4abf-9bc2-5bd2bd4dc334",
   "metadata": {},
   "outputs": [
    {
     "data": {
      "text/plain": [
       "([1, 2, 3, 4, 3.4], ['shashi', 'kant'])"
      ]
     },
     "execution_count": 7,
     "metadata": {},
     "output_type": "execute_result"
    }
   ],
   "source": [
    "l=[1,2,3,4,3.4,\"shashi\",\"kant\"]\n",
    "def test8(l):\n",
    "    l1 =[]\n",
    "    l2=[]\n",
    "    for i in l:\n",
    "        if type(i) == int or type(i) == float:\n",
    "            l1.append(i)\n",
    "        else:\n",
    "                l2.append(i)\n",
    "    return l1,l2\n",
    "test8(l)"
   ]
  },
  {
   "cell_type": "code",
   "execution_count": 1,
   "id": "4df2c563-fa89-4077-9be7-3e555a3fdc9f",
   "metadata": {},
   "outputs": [
    {
     "ename": "NameError",
     "evalue": "name 'test8' is not defined",
     "output_type": "error",
     "traceback": [
      "\u001b[0;31m---------------------------------------------------------------------------\u001b[0m",
      "\u001b[0;31mNameError\u001b[0m                                 Traceback (most recent call last)",
      "Cell \u001b[0;32mIn[1], line 1\u001b[0m\n\u001b[0;32m----> 1\u001b[0m \u001b[43mtest8\u001b[49m(l)\n",
      "\u001b[0;31mNameError\u001b[0m: name 'test8' is not defined"
     ]
    }
   ],
   "source": [
    "test8(l)"
   ]
  },
  {
   "cell_type": "code",
   "execution_count": 16,
   "id": "b91a5dff-0fa0-40cb-83d6-7627c6e98ca0",
   "metadata": {},
   "outputs": [
    {
     "data": {
      "text/plain": [
       "[1, 2, 3, 4, 'shashi', 'kant', [1, 2, 3, 4], 5.7]"
      ]
     },
     "execution_count": 16,
     "metadata": {},
     "output_type": "execute_result"
    }
   ],
   "source": [
    "l"
   ]
  },
  {
   "cell_type": "code",
   "execution_count": 8,
   "id": "91acd95c-a9ea-4968-ab59-03212263dd13",
   "metadata": {},
   "outputs": [
    {
     "data": {
      "text/plain": [
       "[1, 2, 3, 4, 3.4, 'shashi', 'kant']"
      ]
     },
     "execution_count": 8,
     "metadata": {},
     "output_type": "execute_result"
    }
   ],
   "source": [
    "l"
   ]
  },
  {
   "cell_type": "code",
   "execution_count": 10,
   "id": "7265ab00-87b3-4d02-9f8d-4ec14aa1046b",
   "metadata": {},
   "outputs": [
    {
     "data": {
      "text/plain": [
       "(1, 2, 3)"
      ]
     },
     "execution_count": 10,
     "metadata": {},
     "output_type": "execute_result"
    }
   ],
   "source": [
    "def test9(*args):\n",
    "    return args\n",
    "test9(1,2,3)\n",
    "    "
   ]
  },
  {
   "cell_type": "code",
   "execution_count": 11,
   "id": "19adb7ea-f98b-4d10-a5cf-7957ca4bb1c8",
   "metadata": {},
   "outputs": [],
   "source": [
    "def test10(*args,a):\n",
    "    return args,a"
   ]
  },
  {
   "cell_type": "code",
   "execution_count": 13,
   "id": "beef4e4d-4c08-40e4-a80e-e1a8051e89be",
   "metadata": {},
   "outputs": [
    {
     "data": {
      "text/plain": [
       "((1, 2, 3), 1)"
      ]
     },
     "execution_count": 13,
     "metadata": {},
     "output_type": "execute_result"
    }
   ],
   "source": [
    "test10(1,2,3,a=1)"
   ]
  },
  {
   "cell_type": "code",
   "execution_count": 16,
   "id": "ca6e0431-2599-4f4b-82c2-3193821a99ff",
   "metadata": {},
   "outputs": [
    {
     "data": {
      "text/plain": [
       "(1, 3)"
      ]
     },
     "execution_count": 16,
     "metadata": {},
     "output_type": "execute_result"
    }
   ],
   "source": [
    "def test11(c,d,a=1,b=3):\n",
    "    return a,b,\n",
    "test11()"
   ]
  },
  {
   "cell_type": "code",
   "execution_count": 18,
   "id": "0f0d2737-3594-40e0-aae5-b47f8ce9e9ba",
   "metadata": {},
   "outputs": [
    {
     "data": {
      "text/plain": [
       "{'a': [1, 2, 3]}"
      ]
     },
     "execution_count": 18,
     "metadata": {},
     "output_type": "execute_result"
    }
   ],
   "source": [
    "def test12(**key):\n",
    "    return key\n",
    "test12(a=[1,2,3])"
   ]
  },
  {
   "cell_type": "code",
   "execution_count": null,
   "id": "c758af69-cc38-48ab-a6b7-0a72bb4fe56a",
   "metadata": {},
   "outputs": [],
   "source": []
  }
 ],
 "metadata": {
  "kernelspec": {
   "display_name": "Python 3 (ipykernel)",
   "language": "python",
   "name": "python3"
  },
  "language_info": {
   "codemirror_mode": {
    "name": "ipython",
    "version": 3
   },
   "file_extension": ".py",
   "mimetype": "text/x-python",
   "name": "python",
   "nbconvert_exporter": "python",
   "pygments_lexer": "ipython3",
   "version": "3.10.8"
  }
 },
 "nbformat": 4,
 "nbformat_minor": 5
}
